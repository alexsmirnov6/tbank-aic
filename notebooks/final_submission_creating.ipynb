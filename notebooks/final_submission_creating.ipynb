{
 "cells": [
  {
   "cell_type": "code",
   "execution_count": 28,
   "id": "d055ac50-4925-4ecb-947e-95b20b90e21b",
   "metadata": {
    "tags": []
   },
   "outputs": [],
   "source": [
    "import pandas as pd\n",
    "import numpy as np\n",
    "import pickle\n",
    "from sklearn.model_selection import train_test_split\n",
    "from sklearn.metrics import f1_score, confusion_matrix, classification_report\n",
    "import warnings\n",
    "\n",
    "warnings.filterwarnings('ignore')"
   ]
  },
  {
   "cell_type": "code",
   "execution_count": 29,
   "id": "e34cd9a8-fa6f-4907-8396-ef44e370e778",
   "metadata": {
    "tags": []
   },
   "outputs": [
    {
     "data": {
      "text/plain": [
       "(2878, 4603)"
      ]
     },
     "execution_count": 29,
     "metadata": {},
     "output_type": "execute_result"
    }
   ],
   "source": [
    "with open(\"preds/all_predictions_test.pkl\", \"rb\") as f:\n",
    "    all_predictions_test = pickle.load(f)\n",
    "    \n",
    "with open(\"preds/all_predictions_val.pkl\", \"rb\") as f:\n",
    "    all_predictions_val = pickle.load(f)\n",
    "    \n",
    "len(all_predictions_val), len(all_predictions_test)"
   ]
  },
  {
   "cell_type": "code",
   "execution_count": 30,
   "id": "02b94bf8-b983-4873-a542-d3d207ec2a59",
   "metadata": {
    "tags": []
   },
   "outputs": [],
   "source": [
    "val_preds = pd.read_parquet('data_processed/words/val.parquet').reset_index(drop=True)\n",
    "test_preds = pd.read_parquet('data_processed/words/test.parquet').reset_index(drop=True)"
   ]
  },
  {
   "cell_type": "code",
   "execution_count": 31,
   "id": "fce49792-c580-41bf-ace2-00a7e2c4b83b",
   "metadata": {
    "tags": []
   },
   "outputs": [],
   "source": [
    "val_preds['pred'] = [np.array(x) for x in all_predictions_val]\n",
    "test_preds['pred'] = [np.array(x) for x in all_predictions_test]"
   ]
  },
  {
   "cell_type": "code",
   "execution_count": 32,
   "id": "2f28ee87-5c84-4bec-a157-090c1b9f8736",
   "metadata": {
    "tags": []
   },
   "outputs": [],
   "source": [
    "with open('data_processed/words/val_files.pkl', 'rb') as f:\n",
    "    val_files = pickle.load(f)\n",
    "\n",
    "with open(\"data_processed/disorders_letters.pkl\", \"rb\") as f:\n",
    "    disorders_letters = pickle.load(f)\n",
    "\n",
    "num_classes = len(disorders_letters)\n",
    "\n",
    "val_files = np.unique(val_files)"
   ]
  },
  {
   "cell_type": "code",
   "execution_count": 33,
   "id": "9abc6f3f-6a90-448c-8302-c8dd85ed4c53",
   "metadata": {},
   "outputs": [],
   "source": [
    "def aggregate_preds(x):\n",
    "    means = np.stack(x['pred'].values).mean(axis=0)\n",
    "\n",
    "    preds = [0] * num_classes\n",
    "    \n",
    "    for i, letters in disorders_letters.items():\n",
    "        cols = [f'{letter}_count' for letter in letters]\n",
    "        if len(cols) == 0:\n",
    "            preds[i] = means[i]\n",
    "        elif x[cols].sum().sum() > 0:\n",
    "            preds[i] = np.stack(x.loc[x[cols].sum(axis=1) > 0, 'pred'].values).mean(axis=0)[i]\n",
    " \n",
    "    return np.array(preds)"
   ]
  },
  {
   "cell_type": "code",
   "execution_count": 34,
   "id": "b2241e1f-7cd9-4c5d-8aa8-719ffd545006",
   "metadata": {},
   "outputs": [],
   "source": [
    "def get_metric(y_true, y_pred, verbose=True):\n",
    "    \n",
    "    y_pred = np.argmax(y_pred, axis=-1)\n",
    "    \n",
    "    if verbose:\n",
    "        print(confusion_matrix(y_true, y_pred))\n",
    "\n",
    "    return f1_score(y_true, y_pred, average='macro')\n"
   ]
  },
  {
   "cell_type": "markdown",
   "id": "e93d6279-4bc7-405a-a49c-613867955736",
   "metadata": {},
   "source": [
    "# Validation"
   ]
  },
  {
   "cell_type": "code",
   "execution_count": 36,
   "id": "2c87c882-5ee9-4b8b-8938-23524e792b0d",
   "metadata": {
    "tags": []
   },
   "outputs": [
    {
     "data": {
      "text/plain": [
       "audio_name\n",
       "005b4225-c0ca-4335-84a4-2c501aca6871.mp3    0\n",
       "01195010-508e-426a-9d05-960b3d0e4373.mp3    0\n",
       "01acd762-14d9-420e-b699-3dc6b22b6c6c.mp3    1\n",
       "Name: target, dtype: int64"
      ]
     },
     "execution_count": 36,
     "metadata": {},
     "output_type": "execute_result"
    }
   ],
   "source": [
    "def process_y(y):\n",
    "    y = y.rename(columns={0: 'audio_name', 1: 'target'})\n",
    "    y = y.set_index('audio_name')\n",
    "    return y\n",
    "    \n",
    "\n",
    "y = pd.read_csv(\"data/final/train.csv\", header=None)\n",
    "\n",
    "y = process_y(y)\n",
    "y = y.loc[val_files]\n",
    "y = y.squeeze()\n",
    "y.head(3)"
   ]
  },
  {
   "cell_type": "code",
   "execution_count": 37,
   "id": "7995740d-1c7d-43b7-a921-8924317d7c12",
   "metadata": {},
   "outputs": [
    {
     "data": {
      "text/plain": [
       "{0: [], 1: ['р'], 2: ['г'], 3: []}"
      ]
     },
     "execution_count": 37,
     "metadata": {},
     "output_type": "execute_result"
    }
   ],
   "source": [
    "disorders_letters"
   ]
  },
  {
   "cell_type": "code",
   "execution_count": 38,
   "id": "a990efa8-de1d-4c78-ab86-2b45d37e22ab",
   "metadata": {
    "scrolled": true,
    "tags": []
   },
   "outputs": [],
   "source": [
    "val_preds_agg = pd.Series(index=np.unique(val_files))\n",
    "\n",
    "val_preds_agg.loc[np.unique(val_preds['file'])] = val_preds.groupby('file')[['pred', 'р_count', 'г_count']].apply(aggregate_preds)"
   ]
  },
  {
   "cell_type": "code",
   "execution_count": 39,
   "id": "cdf1d88b-02f7-4be1-9cbc-231a4271a045",
   "metadata": {
    "tags": []
   },
   "outputs": [],
   "source": [
    "value_to_fill_audio_with_no_r = [np.array([1.0] + [0.0] * (num_classes - 1))]\n",
    "\n",
    "nans_count = val_preds_agg.isna().sum()\n",
    "\n",
    "val_preds_agg_full = val_preds_agg.copy()\n",
    "val_preds_agg_full.loc[val_preds_agg.isna()] = value_to_fill_audio_with_no_r * nans_count"
   ]
  },
  {
   "cell_type": "code",
   "execution_count": 40,
   "id": "d69e0954-3424-4969-9c46-f857e70ee36d",
   "metadata": {
    "tags": []
   },
   "outputs": [],
   "source": [
    "val_preds_agg_full = np.stack(val_preds_agg_full)"
   ]
  },
  {
   "cell_type": "code",
   "execution_count": 41,
   "id": "311f6f6f-99b5-426a-b5f9-6d205f5a6bde",
   "metadata": {
    "tags": []
   },
   "outputs": [
    {
     "name": "stdout",
     "output_type": "stream",
     "text": [
      "[[233  32   5   1]\n",
      " [ 90  62   0   4]\n",
      " [ 12   2   8   0]\n",
      " [  3   1   1   2]]\n",
      "F1 macro: 0.4963665353470451\n",
      "              precision    recall  f1-score   support\n",
      "\n",
      "           0       0.69      0.86      0.77       271\n",
      "           1       0.64      0.40      0.49       156\n",
      "           2       0.57      0.36      0.44        22\n",
      "           3       0.29      0.29      0.29         7\n",
      "\n",
      "    accuracy                           0.67       456\n",
      "   macro avg       0.55      0.48      0.50       456\n",
      "weighted avg       0.66      0.67      0.65       456\n",
      "\n"
     ]
    }
   ],
   "source": [
    "metric = get_metric(y, val_preds_agg_full, verbose=True)\n",
    "print(\"F1 macro:\", metric)\n",
    "print(classification_report(y, np.argmax(val_preds_agg_full, axis=-1)))"
   ]
  },
  {
   "cell_type": "markdown",
   "id": "880ee37e-1b57-4b1c-ad1f-bb163ed10512",
   "metadata": {},
   "source": [
    "# Test"
   ]
  },
  {
   "cell_type": "code",
   "execution_count": 43,
   "id": "5d703831-c15b-4e66-923b-9d0afa29b3e2",
   "metadata": {
    "tags": []
   },
   "outputs": [
    {
     "data": {
      "text/html": [
       "<div>\n",
       "<style scoped>\n",
       "    .dataframe tbody tr th:only-of-type {\n",
       "        vertical-align: middle;\n",
       "    }\n",
       "\n",
       "    .dataframe tbody tr th {\n",
       "        vertical-align: top;\n",
       "    }\n",
       "\n",
       "    .dataframe thead th {\n",
       "        text-align: right;\n",
       "    }\n",
       "</style>\n",
       "<table border=\"1\" class=\"dataframe\">\n",
       "  <thead>\n",
       "    <tr style=\"text-align: right;\">\n",
       "      <th></th>\n",
       "      <th>target</th>\n",
       "      <th>pred</th>\n",
       "    </tr>\n",
       "    <tr>\n",
       "      <th>audio_name</th>\n",
       "      <th></th>\n",
       "      <th></th>\n",
       "    </tr>\n",
       "  </thead>\n",
       "  <tbody>\n",
       "    <tr>\n",
       "      <th>0291d295-aae8-4aee-98c6-51899e638b50.mp3</th>\n",
       "      <td>NaN</td>\n",
       "      <td>NaN</td>\n",
       "    </tr>\n",
       "    <tr>\n",
       "      <th>bebe7afb-0081-4975-81cc-2b62d92376fd.mp3</th>\n",
       "      <td>NaN</td>\n",
       "      <td>NaN</td>\n",
       "    </tr>\n",
       "    <tr>\n",
       "      <th>a8273eba-cbee-41ae-8918-28196e693dc7.mp3</th>\n",
       "      <td>NaN</td>\n",
       "      <td>NaN</td>\n",
       "    </tr>\n",
       "    <tr>\n",
       "      <th>f6ad5636-d1cd-40f2-95aa-4a2dba5cb2c4.mp3</th>\n",
       "      <td>NaN</td>\n",
       "      <td>NaN</td>\n",
       "    </tr>\n",
       "    <tr>\n",
       "      <th>a98eff13-e333-412f-a5df-66d6f77aa4d0.mp3</th>\n",
       "      <td>NaN</td>\n",
       "      <td>NaN</td>\n",
       "    </tr>\n",
       "    <tr>\n",
       "      <th>...</th>\n",
       "      <td>...</td>\n",
       "      <td>...</td>\n",
       "    </tr>\n",
       "    <tr>\n",
       "      <th>54c991cc-2505-480c-8be2-adb69d896dfc.mp3</th>\n",
       "      <td>NaN</td>\n",
       "      <td>NaN</td>\n",
       "    </tr>\n",
       "    <tr>\n",
       "      <th>dceb22e0-5587-40cb-a4ae-d326e6ae17e4.mp3</th>\n",
       "      <td>NaN</td>\n",
       "      <td>NaN</td>\n",
       "    </tr>\n",
       "    <tr>\n",
       "      <th>4cdf0a12-bca6-493b-aea4-c120271f8479.mp3</th>\n",
       "      <td>NaN</td>\n",
       "      <td>NaN</td>\n",
       "    </tr>\n",
       "    <tr>\n",
       "      <th>3527d1f1-eeb9-4783-b493-27f1dec831a0.mp3</th>\n",
       "      <td>NaN</td>\n",
       "      <td>NaN</td>\n",
       "    </tr>\n",
       "    <tr>\n",
       "      <th>3d381e34-2afa-4e83-93c3-348fbfae3d97.mp3</th>\n",
       "      <td>NaN</td>\n",
       "      <td>NaN</td>\n",
       "    </tr>\n",
       "  </tbody>\n",
       "</table>\n",
       "<p>718 rows × 2 columns</p>\n",
       "</div>"
      ],
      "text/plain": [
       "                                          target  pred\n",
       "audio_name                                            \n",
       "0291d295-aae8-4aee-98c6-51899e638b50.mp3     NaN   NaN\n",
       "bebe7afb-0081-4975-81cc-2b62d92376fd.mp3     NaN   NaN\n",
       "a8273eba-cbee-41ae-8918-28196e693dc7.mp3     NaN   NaN\n",
       "f6ad5636-d1cd-40f2-95aa-4a2dba5cb2c4.mp3     NaN   NaN\n",
       "a98eff13-e333-412f-a5df-66d6f77aa4d0.mp3     NaN   NaN\n",
       "...                                          ...   ...\n",
       "54c991cc-2505-480c-8be2-adb69d896dfc.mp3     NaN   NaN\n",
       "dceb22e0-5587-40cb-a4ae-d326e6ae17e4.mp3     NaN   NaN\n",
       "4cdf0a12-bca6-493b-aea4-c120271f8479.mp3     NaN   NaN\n",
       "3527d1f1-eeb9-4783-b493-27f1dec831a0.mp3     NaN   NaN\n",
       "3d381e34-2afa-4e83-93c3-348fbfae3d97.mp3     NaN   NaN\n",
       "\n",
       "[718 rows x 2 columns]"
      ]
     },
     "execution_count": 43,
     "metadata": {},
     "output_type": "execute_result"
    }
   ],
   "source": [
    "y = pd.read_csv('data/final/test.csv', header=None)\n",
    "y = process_y(y)\n",
    "y['pred'] = np.nan\n",
    "y"
   ]
  },
  {
   "cell_type": "code",
   "execution_count": 44,
   "id": "a5dc4a93-47bb-46e8-8f0e-018ea71a1b09",
   "metadata": {
    "tags": []
   },
   "outputs": [],
   "source": [
    "test_preds_agg = test_preds.groupby('file')[['pred', 'р_count', 'г_count']].apply(aggregate_preds)\n",
    "test_preds_agg = test_preds_agg.apply(lambda x: pd.Series(x))\n",
    "\n",
    "y.loc[test_preds_agg.index, 'pred'] = test_preds_agg.apply(lambda x: x.values, axis=1)\n",
    "\n",
    "y['target'] = y['pred'].apply(lambda x: np.argmax(x) if x is not np.nan else 0)"
   ]
  },
  {
   "cell_type": "code",
   "execution_count": 45,
   "id": "e6bda5d2-86be-47a0-abad-25c530f08d7a",
   "metadata": {
    "tags": []
   },
   "outputs": [],
   "source": [
    "y = y.reset_index().drop(columns=['pred'])"
   ]
  },
  {
   "cell_type": "code",
   "execution_count": 46,
   "id": "5fc2a7e8-218f-4e86-ad07-9c0b5456b193",
   "metadata": {
    "tags": []
   },
   "outputs": [],
   "source": [
    "y.to_csv('preds/wav2vec_final.csv', header=None, index=False)"
   ]
  },
  {
   "cell_type": "code",
   "execution_count": 47,
   "id": "09b3b6e1-589b-40ab-bbdf-b1f8e441dea2",
   "metadata": {},
   "outputs": [
    {
     "data": {
      "text/html": [
       "<div>\n",
       "<style scoped>\n",
       "    .dataframe tbody tr th:only-of-type {\n",
       "        vertical-align: middle;\n",
       "    }\n",
       "\n",
       "    .dataframe tbody tr th {\n",
       "        vertical-align: top;\n",
       "    }\n",
       "\n",
       "    .dataframe thead th {\n",
       "        text-align: right;\n",
       "    }\n",
       "</style>\n",
       "<table border=\"1\" class=\"dataframe\">\n",
       "  <thead>\n",
       "    <tr style=\"text-align: right;\">\n",
       "      <th></th>\n",
       "      <th>audio_name</th>\n",
       "      <th>target</th>\n",
       "    </tr>\n",
       "  </thead>\n",
       "  <tbody>\n",
       "    <tr>\n",
       "      <th>0</th>\n",
       "      <td>0291d295-aae8-4aee-98c6-51899e638b50.mp3</td>\n",
       "      <td>0</td>\n",
       "    </tr>\n",
       "    <tr>\n",
       "      <th>1</th>\n",
       "      <td>bebe7afb-0081-4975-81cc-2b62d92376fd.mp3</td>\n",
       "      <td>0</td>\n",
       "    </tr>\n",
       "    <tr>\n",
       "      <th>2</th>\n",
       "      <td>a8273eba-cbee-41ae-8918-28196e693dc7.mp3</td>\n",
       "      <td>0</td>\n",
       "    </tr>\n",
       "    <tr>\n",
       "      <th>3</th>\n",
       "      <td>f6ad5636-d1cd-40f2-95aa-4a2dba5cb2c4.mp3</td>\n",
       "      <td>0</td>\n",
       "    </tr>\n",
       "    <tr>\n",
       "      <th>4</th>\n",
       "      <td>a98eff13-e333-412f-a5df-66d6f77aa4d0.mp3</td>\n",
       "      <td>1</td>\n",
       "    </tr>\n",
       "    <tr>\n",
       "      <th>...</th>\n",
       "      <td>...</td>\n",
       "      <td>...</td>\n",
       "    </tr>\n",
       "    <tr>\n",
       "      <th>713</th>\n",
       "      <td>54c991cc-2505-480c-8be2-adb69d896dfc.mp3</td>\n",
       "      <td>2</td>\n",
       "    </tr>\n",
       "    <tr>\n",
       "      <th>714</th>\n",
       "      <td>dceb22e0-5587-40cb-a4ae-d326e6ae17e4.mp3</td>\n",
       "      <td>0</td>\n",
       "    </tr>\n",
       "    <tr>\n",
       "      <th>715</th>\n",
       "      <td>4cdf0a12-bca6-493b-aea4-c120271f8479.mp3</td>\n",
       "      <td>1</td>\n",
       "    </tr>\n",
       "    <tr>\n",
       "      <th>716</th>\n",
       "      <td>3527d1f1-eeb9-4783-b493-27f1dec831a0.mp3</td>\n",
       "      <td>1</td>\n",
       "    </tr>\n",
       "    <tr>\n",
       "      <th>717</th>\n",
       "      <td>3d381e34-2afa-4e83-93c3-348fbfae3d97.mp3</td>\n",
       "      <td>0</td>\n",
       "    </tr>\n",
       "  </tbody>\n",
       "</table>\n",
       "<p>718 rows × 2 columns</p>\n",
       "</div>"
      ],
      "text/plain": [
       "                                   audio_name  target\n",
       "0    0291d295-aae8-4aee-98c6-51899e638b50.mp3       0\n",
       "1    bebe7afb-0081-4975-81cc-2b62d92376fd.mp3       0\n",
       "2    a8273eba-cbee-41ae-8918-28196e693dc7.mp3       0\n",
       "3    f6ad5636-d1cd-40f2-95aa-4a2dba5cb2c4.mp3       0\n",
       "4    a98eff13-e333-412f-a5df-66d6f77aa4d0.mp3       1\n",
       "..                                        ...     ...\n",
       "713  54c991cc-2505-480c-8be2-adb69d896dfc.mp3       2\n",
       "714  dceb22e0-5587-40cb-a4ae-d326e6ae17e4.mp3       0\n",
       "715  4cdf0a12-bca6-493b-aea4-c120271f8479.mp3       1\n",
       "716  3527d1f1-eeb9-4783-b493-27f1dec831a0.mp3       1\n",
       "717  3d381e34-2afa-4e83-93c3-348fbfae3d97.mp3       0\n",
       "\n",
       "[718 rows x 2 columns]"
      ]
     },
     "execution_count": 47,
     "metadata": {},
     "output_type": "execute_result"
    }
   ],
   "source": [
    "y"
   ]
  }
 ],
 "metadata": {
  "kernelspec": {
   "display_name": "base_env",
   "language": "python",
   "name": "base_env"
  },
  "language_info": {
   "codemirror_mode": {
    "name": "ipython",
    "version": 3
   },
   "file_extension": ".py",
   "mimetype": "text/x-python",
   "name": "python",
   "nbconvert_exporter": "python",
   "pygments_lexer": "ipython3",
   "version": "3.12.7"
  }
 },
 "nbformat": 4,
 "nbformat_minor": 5
}
